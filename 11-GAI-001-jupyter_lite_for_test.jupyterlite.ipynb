{
  "metadata": {
    "kernelspec": {
      "name": "python",
      "display_name": "Python (Pyodide)",
      "language": "python"
    },
    "language_info": {
      "codemirror_mode": {
        "name": "python",
        "version": 3
      },
      "file_extension": ".py",
      "mimetype": "text/x-python",
      "name": "python",
      "nbconvert_exporter": "python",
      "pygments_lexer": "ipython3",
      "version": "3.8"
    }
  },
  "nbformat_minor": 4,
  "nbformat": 4,
  "cells": [
    {
      "cell_type": "markdown",
      "source": "<p style=\"text-align:center\">\n    <a href=\"https://skills.network\" target=\"_blank\">\n    <img src=\"https://cf-courses-data.s3.us.cloud-object-storage.appdomain.cloud/assets/logos/SN_web_lightmode.png\" width=\"300\" alt=\"Skills Network Logo\">\n    </a>\n</p>\n",
      "metadata": {}
    },
    {
      "cell_type": "markdown",
      "source": "# Test Environment for Generative AI classroom labs\n\nThis lab provides a test environment for the codes generated using the Generative AI classroom.\n\nFollow the instructions below to set up this environment for further use.\n",
      "metadata": {}
    },
    {
      "cell_type": "markdown",
      "source": "# Setup\n",
      "metadata": {}
    },
    {
      "cell_type": "markdown",
      "source": "### Install required libraries\n\nIn case of a requirement of installing certain python libraries for use in your task, you may do so as shown below.\n",
      "metadata": {}
    },
    {
      "cell_type": "markdown",
      "source": "Load Dataset\n\n### Write a Python code that can perform the following tasks.\nRead the CSV file, located on a given file path, into a Pandas data frame, assuming that the first rows of the file are the headers for the data.\n\n### Building prompt to handle missing data\n\nWrite a Python code that identifies the columns with missing values in a pandas data frame.\n\n\n### Write a Python code to replace the missing values in a pandas data frame, per the following guidelines.\n\n1. For a categorical attribute \"Screen_Size_cm\", replace the missing values with the most frequent value in the column.\n2. For a continuous value attribute \"Weight_kg\", replace the missing values with the mean value of the entries in the column.\n\n### Building prompt: modify data type\nWrite a Python code snippet to change the data type of the attributes \"Screen_Size_cm\" and \"Weight_kg\" of a data frame to float.\n\n### Building prompt: Standardization and normalization\nWrite a Python code to modify the contents under the following attributes of the data frame as required.\n1. Data under 'Screen_Size_cm' is assumed to be in centimeters. Convert this data into inches. Modify the name of the attribute to 'Screen_Size_inch'.\n2. Data under 'Weight_kg' is assumed to be in kilograms. Convert this data into pounds. Modify the name of the attribute to 'Weight_pounds'.\n\n\n### Write a Python code to normalize the content under the attribute \"CPU_frequency\" in a data frame df concerning its maximum value. Make changes to the original data, and do not create a new attribute.\n\n### Building prompt: Categorical to numerical value\nWrite a Python code to perform the following tasks.\n1. Convert a data frame df attribute \"Screen\", into indicator variables, saved as df1, with the naming convention \"Screen_<unique value of the attribute>\".\n2. Append df1 into the original data frame df.\n3. Drop the original attribute from the data frame df.\n\n### Exercise\nWrite a Python code to normalize the content under the attribute \"CPU_frequency\" in a data frame df concerning its min-max normalization. Make changes to the original data, and do not create a new attribute.\n\n\n\n",
      "metadata": {}
    },
    {
      "cell_type": "code",
      "source": "%pip install seaborn\nimport piplite\n\nawait piplite.install(['nbformat', 'plotly'])",
      "metadata": {
        "trusted": true
      },
      "outputs": [],
      "execution_count": 25
    },
    {
      "cell_type": "markdown",
      "source": "### Dataset URL from the GenAI lab\nUse the URL provided in the GenAI lab in the cell below. \n",
      "metadata": {}
    },
    {
      "cell_type": "code",
      "source": "URL = \"https://cf-courses-data.s3.us.cloud-object-storage.appdomain.cloud/IBMDeveloperSkillsNetwork-DA0101EN-Coursera/laptop_pricing_dataset_mod1.csv\"",
      "metadata": {
        "trusted": true
      },
      "outputs": [],
      "execution_count": 26
    },
    {
      "cell_type": "markdown",
      "source": "### Downloading the dataset\n\nExecute the following code to download the dataset in to the interface.\n\n> Please note that this step is essential in JupyterLite. If you are using a downloaded version of this notebook and running it on JupyterLabs, then you can skip this step and directly use the URL in pandas.read_csv() function to read the dataset as a dataframe\n",
      "metadata": {}
    },
    {
      "cell_type": "code",
      "source": "from pyodide.http import pyfetch\n\nasync def download(url, filename):\n    response = await pyfetch(url)\n    if response.status == 200:\n        with open(filename, \"wb\") as f:\n            f.write(await response.bytes())\n\npath = URL\n\nawait download(path, \"dataset.csv\")",
      "metadata": {
        "trusted": true
      },
      "outputs": [],
      "execution_count": 27
    },
    {
      "cell_type": "markdown",
      "source": "---\n",
      "metadata": {}
    },
    {
      "cell_type": "markdown",
      "source": "# Test Environment\n",
      "metadata": {}
    },
    {
      "cell_type": "code",
      "source": "# Keep appending the code generated to this cell, or add more cells below this to execute in parts\nimport pandas as pd\n\n# Specify the file path of the CSV file\nfile_path = \"dataset.csv\"\n\n# Read the CSV file into a Pandas data frame\ndf = pd.read_csv(file_path)\n\n# Display the first few rows of the data frame\nprint(df.head())",
      "metadata": {
        "trusted": true
      },
      "outputs": [
        {
          "name": "stdout",
          "text": "   Unnamed: 0 Manufacturer  Category     Screen  GPU  OS  CPU_core  \\\n0           0         Acer         4  IPS Panel    2   1         5   \n1           1         Dell         3    Full HD    1   1         3   \n2           2         Dell         3    Full HD    1   1         7   \n3           3         Dell         4  IPS Panel    2   1         5   \n4           4           HP         4    Full HD    2   1         7   \n\n   Screen_Size_cm  CPU_frequency  RAM_GB  Storage_GB_SSD  Weight_kg  Price  \n0          35.560            1.6       8             256       1.60    978  \n1          39.624            2.0       4             256       2.20    634  \n2          39.624            2.7       8             256       2.20    946  \n3          33.782            1.6       8             128       1.22   1244  \n4          39.624            1.8       8             256       1.91    837  \n",
          "output_type": "stream"
        }
      ],
      "execution_count": 28
    },
    {
      "cell_type": "code",
      "source": "# Identify columns with missing values\ncolumns_with_missing_values = df.columns[df.isnull().any()].tolist()\n\n# Display the columns with missing values\nprint(\"Columns with missing values:\", columns_with_missing_values)",
      "metadata": {
        "trusted": true
      },
      "outputs": [
        {
          "name": "stdout",
          "text": "Columns with missing values: ['Screen_Size_cm', 'Weight_kg']\n",
          "output_type": "stream"
        }
      ],
      "execution_count": 29
    },
    {
      "cell_type": "code",
      "source": "df['Screen_Size_cm'].dtypes",
      "metadata": {
        "trusted": true
      },
      "outputs": [
        {
          "execution_count": 30,
          "output_type": "execute_result",
          "data": {
            "text/plain": "dtype('float64')"
          },
          "metadata": {}
        }
      ],
      "execution_count": 30
    },
    {
      "cell_type": "code",
      "source": "df['Weight_kg'].dtypes",
      "metadata": {
        "trusted": true
      },
      "outputs": [
        {
          "execution_count": 31,
          "output_type": "execute_result",
          "data": {
            "text/plain": "dtype('float64')"
          },
          "metadata": {}
        }
      ],
      "execution_count": 31
    },
    {
      "cell_type": "code",
      "source": "df.dtypes",
      "metadata": {
        "trusted": true
      },
      "outputs": [
        {
          "execution_count": 32,
          "output_type": "execute_result",
          "data": {
            "text/plain": "Unnamed: 0          int64\nManufacturer       object\nCategory            int64\nScreen             object\nGPU                 int64\nOS                  int64\nCPU_core            int64\nScreen_Size_cm    float64\nCPU_frequency     float64\nRAM_GB              int64\nStorage_GB_SSD      int64\nWeight_kg         float64\nPrice               int64\ndtype: object"
          },
          "metadata": {}
        }
      ],
      "execution_count": 32
    },
    {
      "cell_type": "code",
      "source": "# Replace missing values in the 'Weight_kg' column with the mean value\nmean_weight = df['Weight_kg'].mean()\ndf['Weight_kg'].fillna(mean_weight, inplace=True)\n\nmean_screen_size = df['Screen_Size_cm'].mean()\ndf['Screen_Size_cm'].fillna(mean_screen_size, inplace=True)",
      "metadata": {
        "trusted": true
      },
      "outputs": [],
      "execution_count": 33
    },
    {
      "cell_type": "code",
      "source": "# Identify columns with missing values\ncolumns_with_missing_values = df.columns[df.isnull().any()].tolist()\n\n# Display the columns with missing values\nprint(\"Columns with missing values:\", columns_with_missing_values)",
      "metadata": {
        "trusted": true
      },
      "outputs": [
        {
          "name": "stdout",
          "text": "Columns with missing values: []\n",
          "output_type": "stream"
        }
      ],
      "execution_count": 34
    },
    {
      "cell_type": "code",
      "source": "# Convert 'Screen_Size_cm' data from centimeters to inches\ndf['Screen_Size_inch'] = df['Screen_Size_cm'] * 0.393701\n\n# Convert 'Weight_kg' data from kilograms to pounds\ndf['Weight_pounds'] = df['Weight_kg'] * 2.20462\n\n# Drop the original 'Screen_Size_cm' and 'Weight_kg' columns\ndf.drop(['Screen_Size_cm', 'Weight_kg'], axis=1, inplace=True)\n\n# Display the modified data frame\ndf",
      "metadata": {
        "trusted": true
      },
      "outputs": [
        {
          "execution_count": 35,
          "output_type": "execute_result",
          "data": {
            "text/plain": "     Unnamed: 0 Manufacturer  Category     Screen  GPU  OS  CPU_core  \\\n0             0         Acer         4  IPS Panel    2   1         5   \n1             1         Dell         3    Full HD    1   1         3   \n2             2         Dell         3    Full HD    1   1         7   \n3             3         Dell         4  IPS Panel    2   1         5   \n4             4           HP         4    Full HD    2   1         7   \n..          ...          ...       ...        ...  ...  ..       ...   \n233         233       Lenovo         4  IPS Panel    2   1         7   \n234         234      Toshiba         3    Full HD    2   1         5   \n235         235       Lenovo         4  IPS Panel    2   1         5   \n236         236       Lenovo         3    Full HD    3   1         5   \n237         237      Toshiba         3    Full HD    2   1         5   \n\n     CPU_frequency  RAM_GB  Storage_GB_SSD  Price  Screen_Size_inch  \\\n0              1.6       8             256    978         14.000008   \n1              2.0       4             256    634         15.600008   \n2              2.7       8             256    946         15.600008   \n3              1.6       8             128   1244         13.300007   \n4              1.8       8             256    837         15.600008   \n..             ...     ...             ...    ...               ...   \n233            2.6       8             256   1891         14.000008   \n234            2.4       8             256   1950         13.300007   \n235            2.6       8             256   2236         12.000006   \n236            2.5       6             256    883         15.600008   \n237            2.3       8             256   1499         14.000008   \n\n     Weight_pounds  \n0         3.527392  \n1         4.850164  \n2         4.850164  \n3         2.689636  \n4         4.210824  \n..             ...  \n233       3.747854  \n234       2.645544  \n235       2.998283  \n236       5.291088  \n237       4.299009  \n\n[238 rows x 13 columns]",
            "text/html": "<div>\n<style scoped>\n    .dataframe tbody tr th:only-of-type {\n        vertical-align: middle;\n    }\n\n    .dataframe tbody tr th {\n        vertical-align: top;\n    }\n\n    .dataframe thead th {\n        text-align: right;\n    }\n</style>\n<table border=\"1\" class=\"dataframe\">\n  <thead>\n    <tr style=\"text-align: right;\">\n      <th></th>\n      <th>Unnamed: 0</th>\n      <th>Manufacturer</th>\n      <th>Category</th>\n      <th>Screen</th>\n      <th>GPU</th>\n      <th>OS</th>\n      <th>CPU_core</th>\n      <th>CPU_frequency</th>\n      <th>RAM_GB</th>\n      <th>Storage_GB_SSD</th>\n      <th>Price</th>\n      <th>Screen_Size_inch</th>\n      <th>Weight_pounds</th>\n    </tr>\n  </thead>\n  <tbody>\n    <tr>\n      <th>0</th>\n      <td>0</td>\n      <td>Acer</td>\n      <td>4</td>\n      <td>IPS Panel</td>\n      <td>2</td>\n      <td>1</td>\n      <td>5</td>\n      <td>1.6</td>\n      <td>8</td>\n      <td>256</td>\n      <td>978</td>\n      <td>14.000008</td>\n      <td>3.527392</td>\n    </tr>\n    <tr>\n      <th>1</th>\n      <td>1</td>\n      <td>Dell</td>\n      <td>3</td>\n      <td>Full HD</td>\n      <td>1</td>\n      <td>1</td>\n      <td>3</td>\n      <td>2.0</td>\n      <td>4</td>\n      <td>256</td>\n      <td>634</td>\n      <td>15.600008</td>\n      <td>4.850164</td>\n    </tr>\n    <tr>\n      <th>2</th>\n      <td>2</td>\n      <td>Dell</td>\n      <td>3</td>\n      <td>Full HD</td>\n      <td>1</td>\n      <td>1</td>\n      <td>7</td>\n      <td>2.7</td>\n      <td>8</td>\n      <td>256</td>\n      <td>946</td>\n      <td>15.600008</td>\n      <td>4.850164</td>\n    </tr>\n    <tr>\n      <th>3</th>\n      <td>3</td>\n      <td>Dell</td>\n      <td>4</td>\n      <td>IPS Panel</td>\n      <td>2</td>\n      <td>1</td>\n      <td>5</td>\n      <td>1.6</td>\n      <td>8</td>\n      <td>128</td>\n      <td>1244</td>\n      <td>13.300007</td>\n      <td>2.689636</td>\n    </tr>\n    <tr>\n      <th>4</th>\n      <td>4</td>\n      <td>HP</td>\n      <td>4</td>\n      <td>Full HD</td>\n      <td>2</td>\n      <td>1</td>\n      <td>7</td>\n      <td>1.8</td>\n      <td>8</td>\n      <td>256</td>\n      <td>837</td>\n      <td>15.600008</td>\n      <td>4.210824</td>\n    </tr>\n    <tr>\n      <th>...</th>\n      <td>...</td>\n      <td>...</td>\n      <td>...</td>\n      <td>...</td>\n      <td>...</td>\n      <td>...</td>\n      <td>...</td>\n      <td>...</td>\n      <td>...</td>\n      <td>...</td>\n      <td>...</td>\n      <td>...</td>\n      <td>...</td>\n    </tr>\n    <tr>\n      <th>233</th>\n      <td>233</td>\n      <td>Lenovo</td>\n      <td>4</td>\n      <td>IPS Panel</td>\n      <td>2</td>\n      <td>1</td>\n      <td>7</td>\n      <td>2.6</td>\n      <td>8</td>\n      <td>256</td>\n      <td>1891</td>\n      <td>14.000008</td>\n      <td>3.747854</td>\n    </tr>\n    <tr>\n      <th>234</th>\n      <td>234</td>\n      <td>Toshiba</td>\n      <td>3</td>\n      <td>Full HD</td>\n      <td>2</td>\n      <td>1</td>\n      <td>5</td>\n      <td>2.4</td>\n      <td>8</td>\n      <td>256</td>\n      <td>1950</td>\n      <td>13.300007</td>\n      <td>2.645544</td>\n    </tr>\n    <tr>\n      <th>235</th>\n      <td>235</td>\n      <td>Lenovo</td>\n      <td>4</td>\n      <td>IPS Panel</td>\n      <td>2</td>\n      <td>1</td>\n      <td>5</td>\n      <td>2.6</td>\n      <td>8</td>\n      <td>256</td>\n      <td>2236</td>\n      <td>12.000006</td>\n      <td>2.998283</td>\n    </tr>\n    <tr>\n      <th>236</th>\n      <td>236</td>\n      <td>Lenovo</td>\n      <td>3</td>\n      <td>Full HD</td>\n      <td>3</td>\n      <td>1</td>\n      <td>5</td>\n      <td>2.5</td>\n      <td>6</td>\n      <td>256</td>\n      <td>883</td>\n      <td>15.600008</td>\n      <td>5.291088</td>\n    </tr>\n    <tr>\n      <th>237</th>\n      <td>237</td>\n      <td>Toshiba</td>\n      <td>3</td>\n      <td>Full HD</td>\n      <td>2</td>\n      <td>1</td>\n      <td>5</td>\n      <td>2.3</td>\n      <td>8</td>\n      <td>256</td>\n      <td>1499</td>\n      <td>14.000008</td>\n      <td>4.299009</td>\n    </tr>\n  </tbody>\n</table>\n<p>238 rows × 13 columns</p>\n</div>"
          },
          "metadata": {}
        }
      ],
      "execution_count": 35
    },
    {
      "cell_type": "code",
      "source": "df['CPU_frequency']/df['CPU_frequency'].max()",
      "metadata": {
        "trusted": true
      },
      "outputs": [
        {
          "execution_count": 36,
          "output_type": "execute_result",
          "data": {
            "text/plain": "0      0.551724\n1      0.689655\n2      0.931034\n3      0.551724\n4      0.620690\n         ...   \n233    0.896552\n234    0.827586\n235    0.896552\n236    0.862069\n237    0.793103\nName: CPU_frequency, Length: 238, dtype: float64"
          },
          "metadata": {}
        }
      ],
      "execution_count": 36
    },
    {
      "cell_type": "code",
      "source": "# Normalize the 'CPU_frequency' attribute by dividing each value by the maximum value\nmax_cpu_frequency = df['CPU_frequency'].max()\ndf['CPU_frequency'] = df['CPU_frequency'] / max_cpu_frequency",
      "metadata": {
        "trusted": true
      },
      "outputs": [],
      "execution_count": 37
    },
    {
      "cell_type": "code",
      "source": "df",
      "metadata": {
        "trusted": true
      },
      "outputs": [
        {
          "execution_count": 38,
          "output_type": "execute_result",
          "data": {
            "text/plain": "     Unnamed: 0 Manufacturer  Category     Screen  GPU  OS  CPU_core  \\\n0             0         Acer         4  IPS Panel    2   1         5   \n1             1         Dell         3    Full HD    1   1         3   \n2             2         Dell         3    Full HD    1   1         7   \n3             3         Dell         4  IPS Panel    2   1         5   \n4             4           HP         4    Full HD    2   1         7   \n..          ...          ...       ...        ...  ...  ..       ...   \n233         233       Lenovo         4  IPS Panel    2   1         7   \n234         234      Toshiba         3    Full HD    2   1         5   \n235         235       Lenovo         4  IPS Panel    2   1         5   \n236         236       Lenovo         3    Full HD    3   1         5   \n237         237      Toshiba         3    Full HD    2   1         5   \n\n     CPU_frequency  RAM_GB  Storage_GB_SSD  Price  Screen_Size_inch  \\\n0         0.551724       8             256    978         14.000008   \n1         0.689655       4             256    634         15.600008   \n2         0.931034       8             256    946         15.600008   \n3         0.551724       8             128   1244         13.300007   \n4         0.620690       8             256    837         15.600008   \n..             ...     ...             ...    ...               ...   \n233       0.896552       8             256   1891         14.000008   \n234       0.827586       8             256   1950         13.300007   \n235       0.896552       8             256   2236         12.000006   \n236       0.862069       6             256    883         15.600008   \n237       0.793103       8             256   1499         14.000008   \n\n     Weight_pounds  \n0         3.527392  \n1         4.850164  \n2         4.850164  \n3         2.689636  \n4         4.210824  \n..             ...  \n233       3.747854  \n234       2.645544  \n235       2.998283  \n236       5.291088  \n237       4.299009  \n\n[238 rows x 13 columns]",
            "text/html": "<div>\n<style scoped>\n    .dataframe tbody tr th:only-of-type {\n        vertical-align: middle;\n    }\n\n    .dataframe tbody tr th {\n        vertical-align: top;\n    }\n\n    .dataframe thead th {\n        text-align: right;\n    }\n</style>\n<table border=\"1\" class=\"dataframe\">\n  <thead>\n    <tr style=\"text-align: right;\">\n      <th></th>\n      <th>Unnamed: 0</th>\n      <th>Manufacturer</th>\n      <th>Category</th>\n      <th>Screen</th>\n      <th>GPU</th>\n      <th>OS</th>\n      <th>CPU_core</th>\n      <th>CPU_frequency</th>\n      <th>RAM_GB</th>\n      <th>Storage_GB_SSD</th>\n      <th>Price</th>\n      <th>Screen_Size_inch</th>\n      <th>Weight_pounds</th>\n    </tr>\n  </thead>\n  <tbody>\n    <tr>\n      <th>0</th>\n      <td>0</td>\n      <td>Acer</td>\n      <td>4</td>\n      <td>IPS Panel</td>\n      <td>2</td>\n      <td>1</td>\n      <td>5</td>\n      <td>0.551724</td>\n      <td>8</td>\n      <td>256</td>\n      <td>978</td>\n      <td>14.000008</td>\n      <td>3.527392</td>\n    </tr>\n    <tr>\n      <th>1</th>\n      <td>1</td>\n      <td>Dell</td>\n      <td>3</td>\n      <td>Full HD</td>\n      <td>1</td>\n      <td>1</td>\n      <td>3</td>\n      <td>0.689655</td>\n      <td>4</td>\n      <td>256</td>\n      <td>634</td>\n      <td>15.600008</td>\n      <td>4.850164</td>\n    </tr>\n    <tr>\n      <th>2</th>\n      <td>2</td>\n      <td>Dell</td>\n      <td>3</td>\n      <td>Full HD</td>\n      <td>1</td>\n      <td>1</td>\n      <td>7</td>\n      <td>0.931034</td>\n      <td>8</td>\n      <td>256</td>\n      <td>946</td>\n      <td>15.600008</td>\n      <td>4.850164</td>\n    </tr>\n    <tr>\n      <th>3</th>\n      <td>3</td>\n      <td>Dell</td>\n      <td>4</td>\n      <td>IPS Panel</td>\n      <td>2</td>\n      <td>1</td>\n      <td>5</td>\n      <td>0.551724</td>\n      <td>8</td>\n      <td>128</td>\n      <td>1244</td>\n      <td>13.300007</td>\n      <td>2.689636</td>\n    </tr>\n    <tr>\n      <th>4</th>\n      <td>4</td>\n      <td>HP</td>\n      <td>4</td>\n      <td>Full HD</td>\n      <td>2</td>\n      <td>1</td>\n      <td>7</td>\n      <td>0.620690</td>\n      <td>8</td>\n      <td>256</td>\n      <td>837</td>\n      <td>15.600008</td>\n      <td>4.210824</td>\n    </tr>\n    <tr>\n      <th>...</th>\n      <td>...</td>\n      <td>...</td>\n      <td>...</td>\n      <td>...</td>\n      <td>...</td>\n      <td>...</td>\n      <td>...</td>\n      <td>...</td>\n      <td>...</td>\n      <td>...</td>\n      <td>...</td>\n      <td>...</td>\n      <td>...</td>\n    </tr>\n    <tr>\n      <th>233</th>\n      <td>233</td>\n      <td>Lenovo</td>\n      <td>4</td>\n      <td>IPS Panel</td>\n      <td>2</td>\n      <td>1</td>\n      <td>7</td>\n      <td>0.896552</td>\n      <td>8</td>\n      <td>256</td>\n      <td>1891</td>\n      <td>14.000008</td>\n      <td>3.747854</td>\n    </tr>\n    <tr>\n      <th>234</th>\n      <td>234</td>\n      <td>Toshiba</td>\n      <td>3</td>\n      <td>Full HD</td>\n      <td>2</td>\n      <td>1</td>\n      <td>5</td>\n      <td>0.827586</td>\n      <td>8</td>\n      <td>256</td>\n      <td>1950</td>\n      <td>13.300007</td>\n      <td>2.645544</td>\n    </tr>\n    <tr>\n      <th>235</th>\n      <td>235</td>\n      <td>Lenovo</td>\n      <td>4</td>\n      <td>IPS Panel</td>\n      <td>2</td>\n      <td>1</td>\n      <td>5</td>\n      <td>0.896552</td>\n      <td>8</td>\n      <td>256</td>\n      <td>2236</td>\n      <td>12.000006</td>\n      <td>2.998283</td>\n    </tr>\n    <tr>\n      <th>236</th>\n      <td>236</td>\n      <td>Lenovo</td>\n      <td>3</td>\n      <td>Full HD</td>\n      <td>3</td>\n      <td>1</td>\n      <td>5</td>\n      <td>0.862069</td>\n      <td>6</td>\n      <td>256</td>\n      <td>883</td>\n      <td>15.600008</td>\n      <td>5.291088</td>\n    </tr>\n    <tr>\n      <th>237</th>\n      <td>237</td>\n      <td>Toshiba</td>\n      <td>3</td>\n      <td>Full HD</td>\n      <td>2</td>\n      <td>1</td>\n      <td>5</td>\n      <td>0.793103</td>\n      <td>8</td>\n      <td>256</td>\n      <td>1499</td>\n      <td>14.000008</td>\n      <td>4.299009</td>\n    </tr>\n  </tbody>\n</table>\n<p>238 rows × 13 columns</p>\n</div>"
          },
          "metadata": {}
        }
      ],
      "execution_count": 38
    },
    {
      "cell_type": "code",
      "source": "# Convert 'Screen' attribute into indicator variables\ndf1 = pd.get_dummies(df['Screen'], prefix='Screen')\n\n# Append df1 into the original data frame df\ndf = pd.concat([df, df1], axis=1)\n\n# Drop the original 'Screen' attribute from the data frame\ndf.drop('Screen', axis=1, inplace=True)",
      "metadata": {
        "trusted": true
      },
      "outputs": [],
      "execution_count": 39
    },
    {
      "cell_type": "code",
      "source": "df",
      "metadata": {
        "trusted": true
      },
      "outputs": [
        {
          "execution_count": 40,
          "output_type": "execute_result",
          "data": {
            "text/plain": "     Unnamed: 0 Manufacturer  Category  GPU  OS  CPU_core  CPU_frequency  \\\n0             0         Acer         4    2   1         5       0.551724   \n1             1         Dell         3    1   1         3       0.689655   \n2             2         Dell         3    1   1         7       0.931034   \n3             3         Dell         4    2   1         5       0.551724   \n4             4           HP         4    2   1         7       0.620690   \n..          ...          ...       ...  ...  ..       ...            ...   \n233         233       Lenovo         4    2   1         7       0.896552   \n234         234      Toshiba         3    2   1         5       0.827586   \n235         235       Lenovo         4    2   1         5       0.896552   \n236         236       Lenovo         3    3   1         5       0.862069   \n237         237      Toshiba         3    2   1         5       0.793103   \n\n     RAM_GB  Storage_GB_SSD  Price  Screen_Size_inch  Weight_pounds  \\\n0         8             256    978         14.000008       3.527392   \n1         4             256    634         15.600008       4.850164   \n2         8             256    946         15.600008       4.850164   \n3         8             128   1244         13.300007       2.689636   \n4         8             256    837         15.600008       4.210824   \n..      ...             ...    ...               ...            ...   \n233       8             256   1891         14.000008       3.747854   \n234       8             256   1950         13.300007       2.645544   \n235       8             256   2236         12.000006       2.998283   \n236       6             256    883         15.600008       5.291088   \n237       8             256   1499         14.000008       4.299009   \n\n     Screen_Full HD  Screen_IPS Panel  \n0                 0                 1  \n1                 1                 0  \n2                 1                 0  \n3                 0                 1  \n4                 1                 0  \n..              ...               ...  \n233               0                 1  \n234               1                 0  \n235               0                 1  \n236               1                 0  \n237               1                 0  \n\n[238 rows x 14 columns]",
            "text/html": "<div>\n<style scoped>\n    .dataframe tbody tr th:only-of-type {\n        vertical-align: middle;\n    }\n\n    .dataframe tbody tr th {\n        vertical-align: top;\n    }\n\n    .dataframe thead th {\n        text-align: right;\n    }\n</style>\n<table border=\"1\" class=\"dataframe\">\n  <thead>\n    <tr style=\"text-align: right;\">\n      <th></th>\n      <th>Unnamed: 0</th>\n      <th>Manufacturer</th>\n      <th>Category</th>\n      <th>GPU</th>\n      <th>OS</th>\n      <th>CPU_core</th>\n      <th>CPU_frequency</th>\n      <th>RAM_GB</th>\n      <th>Storage_GB_SSD</th>\n      <th>Price</th>\n      <th>Screen_Size_inch</th>\n      <th>Weight_pounds</th>\n      <th>Screen_Full HD</th>\n      <th>Screen_IPS Panel</th>\n    </tr>\n  </thead>\n  <tbody>\n    <tr>\n      <th>0</th>\n      <td>0</td>\n      <td>Acer</td>\n      <td>4</td>\n      <td>2</td>\n      <td>1</td>\n      <td>5</td>\n      <td>0.551724</td>\n      <td>8</td>\n      <td>256</td>\n      <td>978</td>\n      <td>14.000008</td>\n      <td>3.527392</td>\n      <td>0</td>\n      <td>1</td>\n    </tr>\n    <tr>\n      <th>1</th>\n      <td>1</td>\n      <td>Dell</td>\n      <td>3</td>\n      <td>1</td>\n      <td>1</td>\n      <td>3</td>\n      <td>0.689655</td>\n      <td>4</td>\n      <td>256</td>\n      <td>634</td>\n      <td>15.600008</td>\n      <td>4.850164</td>\n      <td>1</td>\n      <td>0</td>\n    </tr>\n    <tr>\n      <th>2</th>\n      <td>2</td>\n      <td>Dell</td>\n      <td>3</td>\n      <td>1</td>\n      <td>1</td>\n      <td>7</td>\n      <td>0.931034</td>\n      <td>8</td>\n      <td>256</td>\n      <td>946</td>\n      <td>15.600008</td>\n      <td>4.850164</td>\n      <td>1</td>\n      <td>0</td>\n    </tr>\n    <tr>\n      <th>3</th>\n      <td>3</td>\n      <td>Dell</td>\n      <td>4</td>\n      <td>2</td>\n      <td>1</td>\n      <td>5</td>\n      <td>0.551724</td>\n      <td>8</td>\n      <td>128</td>\n      <td>1244</td>\n      <td>13.300007</td>\n      <td>2.689636</td>\n      <td>0</td>\n      <td>1</td>\n    </tr>\n    <tr>\n      <th>4</th>\n      <td>4</td>\n      <td>HP</td>\n      <td>4</td>\n      <td>2</td>\n      <td>1</td>\n      <td>7</td>\n      <td>0.620690</td>\n      <td>8</td>\n      <td>256</td>\n      <td>837</td>\n      <td>15.600008</td>\n      <td>4.210824</td>\n      <td>1</td>\n      <td>0</td>\n    </tr>\n    <tr>\n      <th>...</th>\n      <td>...</td>\n      <td>...</td>\n      <td>...</td>\n      <td>...</td>\n      <td>...</td>\n      <td>...</td>\n      <td>...</td>\n      <td>...</td>\n      <td>...</td>\n      <td>...</td>\n      <td>...</td>\n      <td>...</td>\n      <td>...</td>\n      <td>...</td>\n    </tr>\n    <tr>\n      <th>233</th>\n      <td>233</td>\n      <td>Lenovo</td>\n      <td>4</td>\n      <td>2</td>\n      <td>1</td>\n      <td>7</td>\n      <td>0.896552</td>\n      <td>8</td>\n      <td>256</td>\n      <td>1891</td>\n      <td>14.000008</td>\n      <td>3.747854</td>\n      <td>0</td>\n      <td>1</td>\n    </tr>\n    <tr>\n      <th>234</th>\n      <td>234</td>\n      <td>Toshiba</td>\n      <td>3</td>\n      <td>2</td>\n      <td>1</td>\n      <td>5</td>\n      <td>0.827586</td>\n      <td>8</td>\n      <td>256</td>\n      <td>1950</td>\n      <td>13.300007</td>\n      <td>2.645544</td>\n      <td>1</td>\n      <td>0</td>\n    </tr>\n    <tr>\n      <th>235</th>\n      <td>235</td>\n      <td>Lenovo</td>\n      <td>4</td>\n      <td>2</td>\n      <td>1</td>\n      <td>5</td>\n      <td>0.896552</td>\n      <td>8</td>\n      <td>256</td>\n      <td>2236</td>\n      <td>12.000006</td>\n      <td>2.998283</td>\n      <td>0</td>\n      <td>1</td>\n    </tr>\n    <tr>\n      <th>236</th>\n      <td>236</td>\n      <td>Lenovo</td>\n      <td>3</td>\n      <td>3</td>\n      <td>1</td>\n      <td>5</td>\n      <td>0.862069</td>\n      <td>6</td>\n      <td>256</td>\n      <td>883</td>\n      <td>15.600008</td>\n      <td>5.291088</td>\n      <td>1</td>\n      <td>0</td>\n    </tr>\n    <tr>\n      <th>237</th>\n      <td>237</td>\n      <td>Toshiba</td>\n      <td>3</td>\n      <td>2</td>\n      <td>1</td>\n      <td>5</td>\n      <td>0.793103</td>\n      <td>8</td>\n      <td>256</td>\n      <td>1499</td>\n      <td>14.000008</td>\n      <td>4.299009</td>\n      <td>1</td>\n      <td>0</td>\n    </tr>\n  </tbody>\n</table>\n<p>238 rows × 14 columns</p>\n</div>"
          },
          "metadata": {}
        }
      ],
      "execution_count": 40
    },
    {
      "cell_type": "code",
      "source": "# Assuming the DataFrame is named 'df'\nconversion_rate = 0.85 # 1 USD = 0.85 Euros\n\ndf['Price'] = df['Price'] * conversion_rate",
      "metadata": {
        "trusted": true
      },
      "outputs": [],
      "execution_count": 41
    },
    {
      "cell_type": "code",
      "source": "df",
      "metadata": {
        "trusted": true
      },
      "outputs": [
        {
          "execution_count": 42,
          "output_type": "execute_result",
          "data": {
            "text/plain": "     Unnamed: 0 Manufacturer  Category  GPU  OS  CPU_core  CPU_frequency  \\\n0             0         Acer         4    2   1         5       0.551724   \n1             1         Dell         3    1   1         3       0.689655   \n2             2         Dell         3    1   1         7       0.931034   \n3             3         Dell         4    2   1         5       0.551724   \n4             4           HP         4    2   1         7       0.620690   \n..          ...          ...       ...  ...  ..       ...            ...   \n233         233       Lenovo         4    2   1         7       0.896552   \n234         234      Toshiba         3    2   1         5       0.827586   \n235         235       Lenovo         4    2   1         5       0.896552   \n236         236       Lenovo         3    3   1         5       0.862069   \n237         237      Toshiba         3    2   1         5       0.793103   \n\n     RAM_GB  Storage_GB_SSD    Price  Screen_Size_inch  Weight_pounds  \\\n0         8             256   831.30         14.000008       3.527392   \n1         4             256   538.90         15.600008       4.850164   \n2         8             256   804.10         15.600008       4.850164   \n3         8             128  1057.40         13.300007       2.689636   \n4         8             256   711.45         15.600008       4.210824   \n..      ...             ...      ...               ...            ...   \n233       8             256  1607.35         14.000008       3.747854   \n234       8             256  1657.50         13.300007       2.645544   \n235       8             256  1900.60         12.000006       2.998283   \n236       6             256   750.55         15.600008       5.291088   \n237       8             256  1274.15         14.000008       4.299009   \n\n     Screen_Full HD  Screen_IPS Panel  \n0                 0                 1  \n1                 1                 0  \n2                 1                 0  \n3                 0                 1  \n4                 1                 0  \n..              ...               ...  \n233               0                 1  \n234               1                 0  \n235               0                 1  \n236               1                 0  \n237               1                 0  \n\n[238 rows x 14 columns]",
            "text/html": "<div>\n<style scoped>\n    .dataframe tbody tr th:only-of-type {\n        vertical-align: middle;\n    }\n\n    .dataframe tbody tr th {\n        vertical-align: top;\n    }\n\n    .dataframe thead th {\n        text-align: right;\n    }\n</style>\n<table border=\"1\" class=\"dataframe\">\n  <thead>\n    <tr style=\"text-align: right;\">\n      <th></th>\n      <th>Unnamed: 0</th>\n      <th>Manufacturer</th>\n      <th>Category</th>\n      <th>GPU</th>\n      <th>OS</th>\n      <th>CPU_core</th>\n      <th>CPU_frequency</th>\n      <th>RAM_GB</th>\n      <th>Storage_GB_SSD</th>\n      <th>Price</th>\n      <th>Screen_Size_inch</th>\n      <th>Weight_pounds</th>\n      <th>Screen_Full HD</th>\n      <th>Screen_IPS Panel</th>\n    </tr>\n  </thead>\n  <tbody>\n    <tr>\n      <th>0</th>\n      <td>0</td>\n      <td>Acer</td>\n      <td>4</td>\n      <td>2</td>\n      <td>1</td>\n      <td>5</td>\n      <td>0.551724</td>\n      <td>8</td>\n      <td>256</td>\n      <td>831.30</td>\n      <td>14.000008</td>\n      <td>3.527392</td>\n      <td>0</td>\n      <td>1</td>\n    </tr>\n    <tr>\n      <th>1</th>\n      <td>1</td>\n      <td>Dell</td>\n      <td>3</td>\n      <td>1</td>\n      <td>1</td>\n      <td>3</td>\n      <td>0.689655</td>\n      <td>4</td>\n      <td>256</td>\n      <td>538.90</td>\n      <td>15.600008</td>\n      <td>4.850164</td>\n      <td>1</td>\n      <td>0</td>\n    </tr>\n    <tr>\n      <th>2</th>\n      <td>2</td>\n      <td>Dell</td>\n      <td>3</td>\n      <td>1</td>\n      <td>1</td>\n      <td>7</td>\n      <td>0.931034</td>\n      <td>8</td>\n      <td>256</td>\n      <td>804.10</td>\n      <td>15.600008</td>\n      <td>4.850164</td>\n      <td>1</td>\n      <td>0</td>\n    </tr>\n    <tr>\n      <th>3</th>\n      <td>3</td>\n      <td>Dell</td>\n      <td>4</td>\n      <td>2</td>\n      <td>1</td>\n      <td>5</td>\n      <td>0.551724</td>\n      <td>8</td>\n      <td>128</td>\n      <td>1057.40</td>\n      <td>13.300007</td>\n      <td>2.689636</td>\n      <td>0</td>\n      <td>1</td>\n    </tr>\n    <tr>\n      <th>4</th>\n      <td>4</td>\n      <td>HP</td>\n      <td>4</td>\n      <td>2</td>\n      <td>1</td>\n      <td>7</td>\n      <td>0.620690</td>\n      <td>8</td>\n      <td>256</td>\n      <td>711.45</td>\n      <td>15.600008</td>\n      <td>4.210824</td>\n      <td>1</td>\n      <td>0</td>\n    </tr>\n    <tr>\n      <th>...</th>\n      <td>...</td>\n      <td>...</td>\n      <td>...</td>\n      <td>...</td>\n      <td>...</td>\n      <td>...</td>\n      <td>...</td>\n      <td>...</td>\n      <td>...</td>\n      <td>...</td>\n      <td>...</td>\n      <td>...</td>\n      <td>...</td>\n      <td>...</td>\n    </tr>\n    <tr>\n      <th>233</th>\n      <td>233</td>\n      <td>Lenovo</td>\n      <td>4</td>\n      <td>2</td>\n      <td>1</td>\n      <td>7</td>\n      <td>0.896552</td>\n      <td>8</td>\n      <td>256</td>\n      <td>1607.35</td>\n      <td>14.000008</td>\n      <td>3.747854</td>\n      <td>0</td>\n      <td>1</td>\n    </tr>\n    <tr>\n      <th>234</th>\n      <td>234</td>\n      <td>Toshiba</td>\n      <td>3</td>\n      <td>2</td>\n      <td>1</td>\n      <td>5</td>\n      <td>0.827586</td>\n      <td>8</td>\n      <td>256</td>\n      <td>1657.50</td>\n      <td>13.300007</td>\n      <td>2.645544</td>\n      <td>1</td>\n      <td>0</td>\n    </tr>\n    <tr>\n      <th>235</th>\n      <td>235</td>\n      <td>Lenovo</td>\n      <td>4</td>\n      <td>2</td>\n      <td>1</td>\n      <td>5</td>\n      <td>0.896552</td>\n      <td>8</td>\n      <td>256</td>\n      <td>1900.60</td>\n      <td>12.000006</td>\n      <td>2.998283</td>\n      <td>0</td>\n      <td>1</td>\n    </tr>\n    <tr>\n      <th>236</th>\n      <td>236</td>\n      <td>Lenovo</td>\n      <td>3</td>\n      <td>3</td>\n      <td>1</td>\n      <td>5</td>\n      <td>0.862069</td>\n      <td>6</td>\n      <td>256</td>\n      <td>750.55</td>\n      <td>15.600008</td>\n      <td>5.291088</td>\n      <td>1</td>\n      <td>0</td>\n    </tr>\n    <tr>\n      <th>237</th>\n      <td>237</td>\n      <td>Toshiba</td>\n      <td>3</td>\n      <td>2</td>\n      <td>1</td>\n      <td>5</td>\n      <td>0.793103</td>\n      <td>8</td>\n      <td>256</td>\n      <td>1274.15</td>\n      <td>14.000008</td>\n      <td>4.299009</td>\n      <td>1</td>\n      <td>0</td>\n    </tr>\n  </tbody>\n</table>\n<p>238 rows × 14 columns</p>\n</div>"
          },
          "metadata": {}
        }
      ],
      "execution_count": 42
    },
    {
      "cell_type": "markdown",
      "source": "## Authors\n",
      "metadata": {}
    },
    {
      "cell_type": "markdown",
      "source": "[Abhishek Gagneja](https://www.linkedin.com/in/abhishek-gagneja-23051987/)\n",
      "metadata": {}
    },
    {
      "cell_type": "markdown",
      "source": "## Change Log\n",
      "metadata": {}
    },
    {
      "cell_type": "markdown",
      "source": "|Date (YYYY-MM-DD)|Version|Changed By|Change Description|\n|-|-|-|-|\n|2023-12-10|0.1|Abhishek Gagneja|Initial Draft created|\n",
      "metadata": {}
    },
    {
      "cell_type": "markdown",
      "source": "Copyright © 2023 IBM Corporation. All rights reserved.\n",
      "metadata": {}
    }
  ]
}